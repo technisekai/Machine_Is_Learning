{
  "nbformat": 4,
  "nbformat_minor": 0,
  "metadata": {
    "colab": {
      "name": "Untitled0.ipynb",
      "provenance": []
    },
    "kernelspec": {
      "name": "python3",
      "display_name": "Python 3"
    },
    "accelerator": "GPU"
  },
  "cells": [
    {
      "cell_type": "markdown",
      "metadata": {
        "id": "WSIuxsvqEY9y",
        "colab_type": "text"
      },
      "source": [
        "Library"
      ]
    },
    {
      "cell_type": "code",
      "metadata": {
        "id": "K3BsfwK7DR3T",
        "colab_type": "code",
        "colab": {}
      },
      "source": [
        "import pandas as pd\n",
        "import numpy as np\n",
        "import tensorflow as tf\n",
        "import matplotlib.pyplot as plt\n",
        "from keras.layers import Dense, LSTM"
      ],
      "execution_count": null,
      "outputs": []
    },
    {
      "cell_type": "markdown",
      "metadata": {
        "id": "SCWn-dJcEbdV",
        "colab_type": "text"
      },
      "source": [
        "import data"
      ]
    },
    {
      "cell_type": "code",
      "metadata": {
        "id": "j93jCLGSEesm",
        "colab_type": "code",
        "colab": {}
      },
      "source": [
        "df =  pd.read_csv('datasets_614890_1113218_chicago.csv')\n",
        "df = df[['date_time', 'tempC']]"
      ],
      "execution_count": null,
      "outputs": []
    },
    {
      "cell_type": "markdown",
      "metadata": {
        "id": "yjh78gXDkfFP",
        "colab_type": "text"
      },
      "source": [
        "data preprocessing"
      ]
    },
    {
      "cell_type": "code",
      "metadata": {
        "id": "bvuzMK2hklQd",
        "colab_type": "code",
        "colab": {}
      },
      "source": [
        "date = df['date_time'].values\n",
        "temp = df['tempC'].values\n",
        "temp = temp.astype(np.float32)"
      ],
      "execution_count": null,
      "outputs": []
    },
    {
      "cell_type": "code",
      "metadata": {
        "id": "q715zynilOn9",
        "colab_type": "code",
        "colab": {}
      },
      "source": [
        "date_train = date[0:3385]\n",
        "date_valid = date[3385:4232]\n",
        "temp_train = temp[0:3385]\n",
        "temp_valid = temp[3385:4232]"
      ],
      "execution_count": null,
      "outputs": []
    },
    {
      "cell_type": "code",
      "metadata": {
        "id": "tJt6Om4FlkpW",
        "colab_type": "code",
        "colab": {}
      },
      "source": [
        "def windowed_dataset(series, window_size, batch_size, shuffle_buffer):\n",
        "  series = tf.expand_dims(series, axis=-1)\n",
        "  ds = tf.data.Dataset.from_tensor_slices(series)\n",
        "  ds = ds.window(window_size + 1, shift=1, drop_remainder=True)\n",
        "  ds = ds.flat_map(lambda w: w.batch(window_size +1))\n",
        "  ds = ds.shuffle(shuffle_buffer)\n",
        "  ds = ds.map(lambda w: (w[:-1], w[1:]))\n",
        "  return ds.batch(batch_size).prefetch(1)"
      ],
      "execution_count": null,
      "outputs": []
    },
    {
      "cell_type": "markdown",
      "metadata": {
        "id": "sJhYfZWgluLN",
        "colab_type": "text"
      },
      "source": [
        "model"
      ]
    },
    {
      "cell_type": "code",
      "metadata": {
        "id": "XCUmvbzmlvlB",
        "colab_type": "code",
        "colab": {}
      },
      "source": [
        "train_set = windowed_dataset(temp_train, window_size=60, batch_size=100, shuffle_buffer=1000)\n",
        "valid_set = windowed_dataset(temp_valid, window_size=60, batch_size=100, shuffle_buffer=1000)\n",
        "model = tf.keras.models.Sequential([\n",
        "                                    tf.keras.layers.LSTM(60, return_sequences=True),\n",
        "                                    tf.keras.layers.LSTM(60),\n",
        "                                    tf.keras.layers.Dense(8, activation=\"relu\"),\n",
        "                                    tf.keras.layers.Dense(1),\n",
        "])"
      ],
      "execution_count": null,
      "outputs": []
    },
    {
      "cell_type": "markdown",
      "metadata": {
        "id": "AwmqUp1_mAkZ",
        "colab_type": "text"
      },
      "source": [
        "optimizer and loss function"
      ]
    },
    {
      "cell_type": "code",
      "metadata": {
        "id": "W2lDaPKhmDAV",
        "colab_type": "code",
        "colab": {}
      },
      "source": [
        "optimizer = tf.keras.optimizers.SGD(lr=0.1, momentum=0.9)\n",
        "model.compile(loss=tf.keras.losses.Huber(),\n",
        "              optimizer=optimizer,\n",
        "              metrics=[\"mae\"])"
      ],
      "execution_count": null,
      "outputs": []
    },
    {
      "cell_type": "markdown",
      "metadata": {
        "id": "tbDaLvyNmzGZ",
        "colab_type": "text"
      },
      "source": [
        "callback"
      ]
    },
    {
      "cell_type": "code",
      "metadata": {
        "id": "tQlw6klTm0ue",
        "colab_type": "code",
        "colab": {}
      },
      "source": [
        "class callback(tf.keras.callbacks.Callback):\n",
        "  def on_epoch_end(self, epoch, logs={}):\n",
        "    if(logs.get('mae') is not None and logs.get('mae') <= 6):\n",
        "      self.model.stop_training = True\n",
        "\n",
        "callbacks = callback()"
      ],
      "execution_count": null,
      "outputs": []
    },
    {
      "cell_type": "markdown",
      "metadata": {
        "id": "n66-x6FDmEIw",
        "colab_type": "text"
      },
      "source": [
        "training model"
      ]
    },
    {
      "cell_type": "code",
      "metadata": {
        "id": "ASuISKqVmG54",
        "colab_type": "code",
        "colab": {
          "base_uri": "https://localhost:8080/",
          "height": 86
        },
        "outputId": "d4c064b6-1dda-4e82-a12b-ea22111712f6"
      },
      "source": [
        "history = model.fit(train_set, epochs=100, callbacks=[callbacks],\n",
        "                    validation_data=(valid_set), verbose=2)"
      ],
      "execution_count": null,
      "outputs": [
        {
          "output_type": "stream",
          "text": [
            "Epoch 1/100\n",
            "34/34 - 1s - loss: 8.1842 - mae: 8.6710 - val_loss: 4.5858 - val_mae: 5.0619\n",
            "Epoch 2/100\n",
            "34/34 - 1s - loss: 4.2463 - mae: 4.7229 - val_loss: 4.6781 - val_mae: 5.1556\n"
          ],
          "name": "stdout"
        }
      ]
    },
    {
      "cell_type": "markdown",
      "metadata": {
        "id": "iVVC-Arvmi5C",
        "colab_type": "text"
      },
      "source": [
        "plot mae"
      ]
    },
    {
      "cell_type": "code",
      "metadata": {
        "id": "RjmVvdCWmlH7",
        "colab_type": "code",
        "colab": {
          "base_uri": "https://localhost:8080/",
          "height": 295
        },
        "outputId": "d3586287-7692-46ed-d7da-a25b07f59de1"
      },
      "source": [
        "plt.plot(history.history['mae'])\n",
        "plt.plot(history.history['val_mae'])\n",
        "plt.title('Plot Mae')\n",
        "plt.ylabel('mae')\n",
        "plt.xlabel('epoch')\n",
        "plt.legend(['train_set', 'valid_set'], loc='upper left')\n",
        "plt.show()"
      ],
      "execution_count": 184,
      "outputs": [
        {
          "output_type": "display_data",
          "data": {
            "image/png": "[encoded data removed]",
            "text/plain": [
              "<Figure size 432x288 with 1 Axes>"
            ]
          },
          "metadata": {
            "tags": [],
            "needs_background": "light"
          }
        }
      ]
    },
    {
      "cell_type": "markdown",
      "metadata": {
        "id": "629qbFTum5rB",
        "colab_type": "text"
      },
      "source": [
        "plot loss"
      ]
    },
    {
      "cell_type": "code",
      "metadata": {
        "id": "lljRgwjem8-L",
        "colab_type": "code",
        "colab": {
          "base_uri": "https://localhost:8080/",
          "height": 295
        },
        "outputId": "da4186e0-70c9-47d8-d40e-e1f09c345506"
      },
      "source": [
        "plt.plot(history.history['loss'])\n",
        "plt.plot(history.history['val_loss'])\n",
        "plt.title('Loss Model')\n",
        "plt.ylabel('loss')\n",
        "plt.xlabel('epoch')\n",
        "plt.legend(['train_set', 'valid_set'], loc='upper left')\n",
        "plt.show()"
      ],
      "execution_count": 185,
      "outputs": [
        {
          "output_type": "display_data",
          "data": {
            "image/png": "[encoded data removed]",
            "text/plain": [
              "<Figure size 432x288 with 1 Axes>"
            ]
          },
          "metadata": {
            "tags": [],
            "needs_background": "light"
          }
        }
      ]
    }
  ]
}