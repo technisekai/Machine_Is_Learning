{
  "nbformat": 4,
  "nbformat_minor": 0,
  "metadata": {
    "colab": {
      "name": "Submission.ipynb",
      "provenance": []
    },
    "kernelspec": {
      "name": "python3",
      "display_name": "Python 3"
    },
    "accelerator": "GPU"
  },
  "cells": [
    {
      "cell_type": "markdown",
      "metadata": {
        "id": "44p_erfIVuUf",
        "colab_type": "text"
      },
      "source": [
        "library"
      ]
    },
    {
      "cell_type": "code",
      "metadata": {
        "id": "NMixg7X_VsOK",
        "colab_type": "code",
        "colab": {}
      },
      "source": [
        "import pandas as pd\n",
        "import numpy as np\n",
        "import tensorflow as tf\n",
        "import matplotlib.pyplot as plt\n",
        "from keras.layers import Dense, LSTM"
      ],
      "execution_count": 1,
      "outputs": []
    },
    {
      "cell_type": "markdown",
      "metadata": {
        "id": "LBgVuFreVno8",
        "colab_type": "text"
      },
      "source": [
        "dataframe"
      ]
    },
    {
      "cell_type": "code",
      "metadata": {
        "id": "4mWNE8CHVqCd",
        "colab_type": "code",
        "colab": {
          "base_uri": "https://localhost:8080/",
          "height": 206
        },
        "outputId": "15ad8a4d-1866-41e0-e793-326031823126"
      },
      "source": [
        "df =  pd.read_csv('Avocado.csv')\n",
        "df = df[['Date', 'AveragePrice']]\n",
        "df.tail()"
      ],
      "execution_count": 2,
      "outputs": [
        {
          "output_type": "execute_result",
          "data": {
            "text/html": [
              "<div>\n",
              "<style scoped>\n",
              "    .dataframe tbody tr th:only-of-type {\n",
              "        vertical-align: middle;\n",
              "    }\n",
              "\n",
              "    .dataframe tbody tr th {\n",
              "        vertical-align: top;\n",
              "    }\n",
              "\n",
              "    .dataframe thead th {\n",
              "        text-align: right;\n",
              "    }\n",
              "</style>\n",
              "<table border=\"1\" class=\"dataframe\">\n",
              "  <thead>\n",
              "    <tr style=\"text-align: right;\">\n",
              "      <th></th>\n",
              "      <th>Date</th>\n",
              "      <th>AveragePrice</th>\n",
              "    </tr>\n",
              "  </thead>\n",
              "  <tbody>\n",
              "    <tr>\n",
              "      <th>27318</th>\n",
              "      <td>2015-11-22</td>\n",
              "      <td>1.97</td>\n",
              "    </tr>\n",
              "    <tr>\n",
              "      <th>27319</th>\n",
              "      <td>2015-11-29</td>\n",
              "      <td>2.08</td>\n",
              "    </tr>\n",
              "    <tr>\n",
              "      <th>27320</th>\n",
              "      <td>2015-12-13</td>\n",
              "      <td>1.80</td>\n",
              "    </tr>\n",
              "    <tr>\n",
              "      <th>27321</th>\n",
              "      <td>2015-12-20</td>\n",
              "      <td>1.92</td>\n",
              "    </tr>\n",
              "    <tr>\n",
              "      <th>27322</th>\n",
              "      <td>2015-12-27</td>\n",
              "      <td>1.81</td>\n",
              "    </tr>\n",
              "  </tbody>\n",
              "</table>\n",
              "</div>"
            ],
            "text/plain": [
              "             Date  AveragePrice\n",
              "27318  2015-11-22          1.97\n",
              "27319  2015-11-29          2.08\n",
              "27320  2015-12-13          1.80\n",
              "27321  2015-12-20          1.92\n",
              "27322  2015-12-27          1.81"
            ]
          },
          "metadata": {
            "tags": []
          },
          "execution_count": 2
        }
      ]
    },
    {
      "cell_type": "markdown",
      "metadata": {
        "id": "Hzoi4vOpWDji",
        "colab_type": "text"
      },
      "source": [
        "data preprocessing"
      ]
    },
    {
      "cell_type": "code",
      "metadata": {
        "id": "yqIZoaa4WGBr",
        "colab_type": "code",
        "colab": {}
      },
      "source": [
        "date = df['Date'].values\n",
        "price = df['AveragePrice'].values"
      ],
      "execution_count": 3,
      "outputs": []
    },
    {
      "cell_type": "code",
      "metadata": {
        "id": "lmoANNJhWaZo",
        "colab_type": "code",
        "colab": {
          "base_uri": "https://localhost:8080/",
          "height": 52
        },
        "outputId": "3cfaa018-b490-4742-853d-2050d3e350f1"
      },
      "source": [
        "sum_train = int(len(date)*0.8)\n",
        "sum_valid = int(len(date)*0.2)\n",
        "\n",
        "date_train = date[0:sum_train]\n",
        "date_valid = date[sum_train:len(date)]\n",
        "price_train = price[0:sum_train]\n",
        "price_valid = price[sum_train:len(date)]\n",
        "\n",
        "print(\"Training data: \", len(date_train), ',', len(price_train))\n",
        "print(\"Validation data: \", len(date_valid), ',', len(price_valid))"
      ],
      "execution_count": 4,
      "outputs": [
        {
          "output_type": "stream",
          "text": [
            "Training data:  21858 , 21858\n",
            "Validation data:  5465 , 5465\n"
          ],
          "name": "stdout"
        }
      ]
    },
    {
      "cell_type": "code",
      "metadata": {
        "id": "qsgX_Eg8XeSX",
        "colab_type": "code",
        "colab": {}
      },
      "source": [
        "def windowed_dataset(series, window_size, batch_size, shuffle_buffer):\n",
        "  series = tf.expand_dims(series, axis=-1)\n",
        "  ds = tf.data.Dataset.from_tensor_slices(series)\n",
        "  ds = ds.window(window_size + 1, shift=1, drop_remainder=True)\n",
        "  ds = ds.flat_map(lambda w: w.batch(window_size +1))\n",
        "  ds = ds.shuffle(shuffle_buffer)\n",
        "  ds = ds.map(lambda w: (w[:-1], w[1:]))\n",
        "  return ds.batch(batch_size).prefetch(1)"
      ],
      "execution_count": 5,
      "outputs": []
    },
    {
      "cell_type": "markdown",
      "metadata": {
        "id": "gbSfjx3cXf9M",
        "colab_type": "text"
      },
      "source": [
        "model"
      ]
    },
    {
      "cell_type": "code",
      "metadata": {
        "id": "BO0jD3HkXgwK",
        "colab_type": "code",
        "colab": {}
      },
      "source": [
        "train_set = windowed_dataset(price_train, window_size=60, batch_size=100, shuffle_buffer=1000)\n",
        "valid_set = windowed_dataset(price_valid, window_size=60, batch_size=100, shuffle_buffer=1000)\n",
        "model = tf.keras.models.Sequential([\n",
        "                                    tf.keras.layers.LSTM(60, return_sequences=True),\n",
        "                                    tf.keras.layers.LSTM(60),\n",
        "                                    tf.keras.layers.Dense(8, activation=\"relu\"),\n",
        "                                    tf.keras.layers.Dropout(0.5), \n",
        "                                    tf.keras.layers.Dense(1),\n",
        "])"
      ],
      "execution_count": 20,
      "outputs": []
    },
    {
      "cell_type": "markdown",
      "metadata": {
        "id": "U8_v62kJXo2r",
        "colab_type": "text"
      },
      "source": [
        "optimizer and loss function"
      ]
    },
    {
      "cell_type": "code",
      "metadata": {
        "id": "bSV5NEh3Xs6h",
        "colab_type": "code",
        "colab": {}
      },
      "source": [
        "optimizer = tf.keras.optimizers.SGD(lr=0.1, momentum=0.9)\n",
        "model.compile(loss=tf.keras.losses.Huber(),\n",
        "              optimizer=optimizer,\n",
        "              metrics=[\"mae\"])"
      ],
      "execution_count": 21,
      "outputs": []
    },
    {
      "cell_type": "markdown",
      "metadata": {
        "id": "qq8TxJybXwLu",
        "colab_type": "text"
      },
      "source": [
        "callbacks"
      ]
    },
    {
      "cell_type": "code",
      "metadata": {
        "id": "JPkqBim8Xxba",
        "colab_type": "code",
        "colab": {}
      },
      "source": [
        "class callback(tf.keras.callbacks.Callback):\n",
        "  def on_epoch_end(self, epoch, logs={}):\n",
        "    #Nilai mae sebenarnya 0.281 namun pada callback diturunkan\n",
        "    if(logs.get('mae') is not None and logs.get('mae') <= 0.278 and logs.get('val_mae') <= 0.278): \n",
        "      self.model.stop_training = True\n",
        "\n",
        "callbacks = callback()"
      ],
      "execution_count": 22,
      "outputs": []
    },
    {
      "cell_type": "markdown",
      "metadata": {
        "id": "ddg18WqqX0Rg",
        "colab_type": "text"
      },
      "source": [
        "training model"
      ]
    },
    {
      "cell_type": "code",
      "metadata": {
        "id": "fGKnRBNoX15M",
        "colab_type": "code",
        "colab": {
          "base_uri": "https://localhost:8080/",
          "height": 523
        },
        "outputId": "7e36a589-2c40-40b0-bd6b-6c2410f10fbf"
      },
      "source": [
        "history = model.fit(train_set, epochs=100, callbacks=[callbacks],\n",
        "                    validation_data=(valid_set), verbose=2)"
      ],
      "execution_count": 23,
      "outputs": [
        {
          "output_type": "stream",
          "text": [
            "Epoch 1/100\n",
            "WARNING:tensorflow:Layer lstm_6 is casting an input tensor from dtype float64 to the layer's dtype of float32, which is new behavior in TensorFlow 2.  The layer has dtype float32 because its dtype defaults to floatx.\n",
            "\n",
            "If you intended to run this layer in float32, you can safely ignore this warning. If in doubt, this warning is likely only an issue if you are porting a TensorFlow 1.X model to TensorFlow 2.\n",
            "\n",
            "To change all layers to have dtype float64 by default, call `tf.keras.backend.set_floatx('float64')`. To change just this layer, pass dtype='float64' to the layer constructor. If you are the author of this layer, you can disable autocasting by passing autocast=False to the base Layer constructor.\n",
            "\n",
            "218/218 - 4s - loss: 0.0558 - mae: 0.2538 - val_loss: 0.0671 - val_mae: 0.2781\n",
            "Epoch 2/100\n",
            "218/218 - 4s - loss: 0.0481 - mae: 0.2413 - val_loss: 0.0667 - val_mae: 0.2787\n",
            "Epoch 3/100\n",
            "218/218 - 5s - loss: 0.0485 - mae: 0.2426 - val_loss: 0.0669 - val_mae: 0.2784\n",
            "Epoch 4/100\n",
            "218/218 - 4s - loss: 0.0480 - mae: 0.2414 - val_loss: 0.0664 - val_mae: 0.2812\n",
            "Epoch 5/100\n",
            "218/218 - 4s - loss: 0.0483 - mae: 0.2419 - val_loss: 0.0669 - val_mae: 0.2784\n",
            "Epoch 6/100\n",
            "218/218 - 4s - loss: 0.0483 - mae: 0.2421 - val_loss: 0.0665 - val_mae: 0.2796\n",
            "Epoch 7/100\n",
            "218/218 - 4s - loss: 0.0480 - mae: 0.2413 - val_loss: 0.0666 - val_mae: 0.2792\n",
            "Epoch 8/100\n",
            "218/218 - 4s - loss: 0.0488 - mae: 0.2435 - val_loss: 0.0669 - val_mae: 0.2784\n",
            "Epoch 9/100\n",
            "218/218 - 4s - loss: 0.0485 - mae: 0.2429 - val_loss: 0.0665 - val_mae: 0.2794\n",
            "Epoch 10/100\n",
            "218/218 - 4s - loss: 0.0482 - mae: 0.2417 - val_loss: 0.0667 - val_mae: 0.2789\n",
            "Epoch 11/100\n",
            "218/218 - 4s - loss: 0.0480 - mae: 0.2411 - val_loss: 0.0688 - val_mae: 0.2780\n"
          ],
          "name": "stdout"
        }
      ]
    },
    {
      "cell_type": "markdown",
      "metadata": {
        "id": "0_DfawoxX4hj",
        "colab_type": "text"
      },
      "source": [
        "mae plot"
      ]
    },
    {
      "cell_type": "code",
      "metadata": {
        "id": "KWqb39KsX66g",
        "colab_type": "code",
        "colab": {
          "base_uri": "https://localhost:8080/",
          "height": 295
        },
        "outputId": "05f6aaf0-9b8e-4623-fc90-0f25e0b83002"
      },
      "source": [
        "plt.plot(history.history['mae'])\n",
        "plt.plot(history.history['val_mae'])\n",
        "plt.title('Plot Mae')\n",
        "plt.ylabel('mae')\n",
        "plt.xlabel('epoch')\n",
        "plt.legend(['train_set', 'valid_set'], loc='upper left')\n",
        "plt.show()"
      ],
      "execution_count": 24,
      "outputs": [
        {
          "output_type": "display_data",
          "data": {
            "image/png": "[encoded data removed]",
            "text/plain": [
              "<Figure size 432x288 with 1 Axes>"
            ]
          },
          "metadata": {
            "tags": [],
            "needs_background": "light"
          }
        }
      ]
    },
    {
      "cell_type": "markdown",
      "metadata": {
        "id": "2Th6hK-pX72l",
        "colab_type": "text"
      },
      "source": [
        "loss plot"
      ]
    },
    {
      "cell_type": "code",
      "metadata": {
        "id": "LT9PtKeNX-fF",
        "colab_type": "code",
        "colab": {
          "base_uri": "https://localhost:8080/",
          "height": 295
        },
        "outputId": "38f3b085-5df6-4345-95fa-6b935e982f33"
      },
      "source": [
        "plt.plot(history.history['loss'])\n",
        "plt.plot(history.history['val_loss'])\n",
        "plt.title('Plot loss')\n",
        "plt.ylabel('loss')\n",
        "plt.xlabel('epoch')\n",
        "plt.legend(['train_set', 'valid_set'], loc='upper left')\n",
        "plt.show()"
      ],
      "execution_count": 25,
      "outputs": [
        {
          "output_type": "display_data",
          "data": {
            "image/png": "[encoded data removed]",
            "text/plain": [
              "<Figure size 432x288 with 1 Axes>"
            ]
          },
          "metadata": {
            "tags": [],
            "needs_background": "light"
          }
        }
      ]
    }
  ]
}