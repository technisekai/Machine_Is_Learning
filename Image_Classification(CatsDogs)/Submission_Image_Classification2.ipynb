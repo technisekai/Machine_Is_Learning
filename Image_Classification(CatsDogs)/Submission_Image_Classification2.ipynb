{
  "nbformat": 4,
  "nbformat_minor": 0,
  "metadata": {
    "colab": {
      "name": "Submission: Image Classification2.ipynb",
      "provenance": [],
      "collapsed_sections": []
    },
    "kernelspec": {
      "name": "python3",
      "display_name": "Python 3"
    },
    "accelerator": "GPU"
  },
  "cells": [
    {
      "cell_type": "markdown",
      "metadata": {
        "id": "_7HHWRjkFTQ-",
        "colab_type": "text"
      },
      "source": [
        "import library"
      ]
    },
    {
      "cell_type": "code",
      "metadata": {
        "id": "ozK_ElfwDlL9",
        "colab_type": "code",
        "colab": {}
      },
      "source": [
        "import pandas as pd\n",
        "import tensorflow as tf\n",
        "import os\n",
        "\n",
        "from tensorflow.keras.optimizers import RMSprop\n",
        "from tensorflow.keras.preprocessing.image import ImageDataGenerator\n",
        "from tensorflow.keras import layers, Sequential\n",
        "from tensorflow.keras.models import Model\n",
        "from tensorflow.keras.layers import Conv2D, Activation, MaxPooling2D, Dropout, Flatten, Dense\n",
        "from keras.applications.inception_v3 import InceptionV3"
      ],
      "execution_count": 1,
      "outputs": []
    },
    {
      "cell_type": "markdown",
      "metadata": {
        "id": "8lG8Eee9FWig",
        "colab_type": "text"
      },
      "source": [
        "data preparation (data sudah dibagi 80:20 manual)"
      ]
    },
    {
      "cell_type": "code",
      "metadata": {
        "id": "eDTMBV3_yutJ",
        "colab_type": "code",
        "colab": {}
      },
      "source": [
        "#dir training\n",
        "train_dir = '/content/drive/My Drive/catsanddogs/training_set'\n",
        "train_cats_dir = os.path.join(train_dir, 'cats')\n",
        "train_dogs_dir = os.path.join(train_dir, 'dogs')\n",
        "\n",
        "#dir test\n",
        "test_dir = '/content/drive/My Drive/catsanddogs/test_set'\n",
        "test_cats_dir = os.path.join(test_dir, 'cats')\n",
        "test_dogs_dir = os.path.join(test_dir, 'dogs')"
      ],
      "execution_count": 2,
      "outputs": []
    },
    {
      "cell_type": "markdown",
      "metadata": {
        "id": "rpe2P7g5BYor",
        "colab_type": "text"
      },
      "source": [
        "image augmentation"
      ]
    },
    {
      "cell_type": "code",
      "metadata": {
        "id": "o0UQxBgQCQ8z",
        "colab_type": "code",
        "colab": {}
      },
      "source": [
        "train_datagen = ImageDataGenerator(\n",
        "                     rescale=1./255,\n",
        "                     rotation_range=20,\n",
        "                     horizontal_flip=True,\n",
        "                     shear_range = 0.2,\n",
        "                     fill_mode = 'nearest')\n",
        "     \n",
        "test_datagen = ImageDataGenerator(\n",
        "                    rescale=1./255,\n",
        "                    rotation_range=20,\n",
        "                    horizontal_flip=True,\n",
        "                    shear_range = 0.2,\n",
        "                    fill_mode = 'nearest')"
      ],
      "execution_count": 3,
      "outputs": []
    },
    {
      "cell_type": "markdown",
      "metadata": {
        "id": "Km4Vi7ZnBcaj",
        "colab_type": "text"
      },
      "source": [
        "prepare training data for model training"
      ]
    },
    {
      "cell_type": "code",
      "metadata": {
        "id": "Spzk98vUCaiw",
        "colab_type": "code",
        "colab": {
          "base_uri": "https://localhost:8080/",
          "height": 52
        },
        "outputId": "cb9f8239-091e-461a-d602-f8a562f3b585"
      },
      "source": [
        "train_generator = train_datagen.flow_from_directory(\n",
        "        train_dir,\n",
        "        target_size=(150, 150),\n",
        "        batch_size=128,\n",
        "        class_mode='binary')\n",
        "     \n",
        "test_generator = test_datagen.flow_from_directory(\n",
        "        test_dir,\n",
        "        target_size=(150, 150),\n",
        "        batch_size=128, \n",
        "        class_mode='binary')"
      ],
      "execution_count": 4,
      "outputs": [
        {
          "output_type": "stream",
          "text": [
            "Found 8005 images belonging to 2 classes.\n",
            "Found 2023 images belonging to 2 classes.\n"
          ],
          "name": "stdout"
        }
      ]
    },
    {
      "cell_type": "markdown",
      "metadata": {
        "id": "WNo6l1WCChFW",
        "colab_type": "text"
      },
      "source": [
        "model"
      ]
    },
    {
      "cell_type": "code",
      "metadata": {
        "id": "Q75eY0gNCiPk",
        "colab_type": "code",
        "colab": {
          "base_uri": "https://localhost:8080/",
          "height": 72
        },
        "outputId": "cc423c88-3d56-49d4-a5ff-19c98da63ac6"
      },
      "source": [
        "inceptionV3 = InceptionV3(include_top= False, input_shape=(150,150,3))\n",
        "for layer in inceptionV3.layers:\n",
        "\tlayer.trainable = False"
      ],
      "execution_count": 5,
      "outputs": [
        {
          "output_type": "stream",
          "text": [
            "Downloading data from https://storage.googleapis.com/tensorflow/keras-applications/inception_v3/inception_v3_weights_tf_dim_ordering_tf_kernels_notop.h5\n",
            "87916544/87910968 [==============================] - 0s 0us/step\n"
          ],
          "name": "stdout"
        }
      ]
    },
    {
      "cell_type": "code",
      "metadata": {
        "id": "V7QfXRZQRGHG",
        "colab_type": "code",
        "colab": {}
      },
      "source": [
        "model = tf.keras.models.Sequential([\n",
        "    inceptionV3, \n",
        "    tf.keras.layers.Conv2D(64, (3,3), padding='same', activation='relu'),\n",
        "    tf.keras.layers.MaxPooling2D(3,3),\n",
        "    tf.keras.layers.Dropout(0.4),  \n",
        "    tf.keras.layers.Flatten(), \n",
        "    tf.keras.layers.Dense(1024, activation='relu'),\n",
        "    tf.keras.layers.Dropout(0.2),\n",
        "    tf.keras.layers.Dense(1, activation='sigmoid')  \n",
        "])"
      ],
      "execution_count": 6,
      "outputs": []
    },
    {
      "cell_type": "markdown",
      "metadata": {
        "id": "l1nNbGjlCqM8",
        "colab_type": "text"
      },
      "source": [
        "optimizer and loss function"
      ]
    },
    {
      "cell_type": "code",
      "metadata": {
        "id": "GQNiYJPrCswe",
        "colab_type": "code",
        "colab": {}
      },
      "source": [
        "model.compile(loss='binary_crossentropy',\n",
        "              optimizer=tf.optimizers.Adam(),\n",
        "              metrics=['accuracy'])"
      ],
      "execution_count": 7,
      "outputs": []
    },
    {
      "cell_type": "markdown",
      "metadata": {
        "id": "vqGOSWKGDCMi",
        "colab_type": "text"
      },
      "source": [
        "callbacks"
      ]
    },
    {
      "cell_type": "code",
      "metadata": {
        "id": "s6uHyUwjDDfj",
        "colab_type": "code",
        "colab": {}
      },
      "source": [
        "class callback(tf.keras.callbacks.Callback):\n",
        "  def on_epoch_end(self, epoch, logs={}):\n",
        "    if(logs.get('accuracy') > 0.92):\n",
        "      self.model.stop_training = True\n",
        "\n",
        "callbacks = callback()"
      ],
      "execution_count": 8,
      "outputs": []
    },
    {
      "cell_type": "markdown",
      "metadata": {
        "id": "mhGQSLECCyq2",
        "colab_type": "text"
      },
      "source": [
        "training model"
      ]
    },
    {
      "cell_type": "code",
      "metadata": {
        "id": "dq8zLXACC0HQ",
        "colab_type": "code",
        "colab": {
          "base_uri": "https://localhost:8080/",
          "height": 106
        },
        "outputId": "29702f4a-1000-4a5e-e58d-0cadc10e7cf1"
      },
      "source": [
        "history = model.fit(train_generator,\n",
        "                    epochs = 100,\n",
        "                    verbose = 1,\n",
        "                    validation_data = test_generator,\n",
        "                    callbacks=[callbacks])"
      ],
      "execution_count": 9,
      "outputs": [
        {
          "output_type": "stream",
          "text": [
            "Epoch 1/100\n",
            "63/63 [==============================] - 4619s 73s/step - loss: 0.3534 - accuracy: 0.8775 - val_loss: 0.1134 - val_accuracy: 0.9521\n",
            "Epoch 2/100\n",
            "63/63 [==============================] - 73s 1s/step - loss: 0.1539 - accuracy: 0.9448 - val_loss: 0.1074 - val_accuracy: 0.9624\n"
          ],
          "name": "stdout"
        }
      ]
    },
    {
      "cell_type": "markdown",
      "metadata": {
        "id": "U-I8vZwNUSLC",
        "colab_type": "text"
      },
      "source": [
        "plot accuracy"
      ]
    },
    {
      "cell_type": "code",
      "metadata": {
        "id": "5IyOKvWdUUDh",
        "colab_type": "code",
        "colab": {
          "base_uri": "https://localhost:8080/",
          "height": 295
        },
        "outputId": "a12a2492-abdd-4962-8316-ce3fe87a656d"
      },
      "source": [
        "import matplotlib.pyplot as plt\n",
        "\n",
        "plt.plot(history.history['accuracy'])\n",
        "plt.plot(history.history['val_accuracy'])\n",
        "plt.title('Plot Accuracy')\n",
        "plt.ylabel('accuracy')\n",
        "plt.xlabel('epoch')\n",
        "plt.legend(['train', 'test'], loc='upper left')\n",
        "plt.show()"
      ],
      "execution_count": 12,
      "outputs": [
        {
          "output_type": "display_data",
          "data": {
            "image/png": "[encoded data removed]",
            "text/plain": [
              "<Figure size 432x288 with 1 Axes>"
            ]
          },
          "metadata": {
            "tags": [],
            "needs_background": "light"
          }
        }
      ]
    },
    {
      "cell_type": "markdown",
      "metadata": {
        "id": "zku1Kli4UjtY",
        "colab_type": "text"
      },
      "source": [
        "plot loss"
      ]
    },
    {
      "cell_type": "code",
      "metadata": {
        "id": "FU_D7bKHUk1-",
        "colab_type": "code",
        "colab": {
          "base_uri": "https://localhost:8080/",
          "height": 295
        },
        "outputId": "3b4fe6e2-3ac5-4e8f-a937-f02da5380a2a"
      },
      "source": [
        "plt.plot(history.history['loss'])\n",
        "plt.plot(history.history['val_loss'])\n",
        "plt.title('Plot Loss')\n",
        "plt.ylabel('loss')\n",
        "plt.xlabel('epoch')\n",
        "plt.legend(['train', 'test'], loc='upper left')\n",
        "plt.show()"
      ],
      "execution_count": 13,
      "outputs": [
        {
          "output_type": "display_data",
          "data": {
            "image/png": "[encoded data removed]",
            "text/plain": [
              "<Figure size 432x288 with 1 Axes>"
            ]
          },
          "metadata": {
            "tags": [],
            "needs_background": "light"
          }
        }
      ]
    },
    {
      "cell_type": "markdown",
      "metadata": {
        "id": "kzehlD9CU6pN",
        "colab_type": "text"
      },
      "source": [
        "convert to tflite"
      ]
    },
    {
      "cell_type": "code",
      "metadata": {
        "id": "s9Myzg6vU9Mq",
        "colab_type": "code",
        "colab": {
          "base_uri": "https://localhost:8080/",
          "height": 159
        },
        "outputId": "b865a599-14d5-4a04-cf34-b9e795b7f6df"
      },
      "source": [
        "converter = tf.lite.TFLiteConverter.from_keras_model(model)\n",
        "tflite_model = converter.convert()\n",
        "\n",
        "#menyimpan model ke model.tflite\n",
        "with tf.io.gfile.GFile('model.tflite', 'wb') as f:\n",
        "  f.write(tflite_model)"
      ],
      "execution_count": 15,
      "outputs": [
        {
          "output_type": "stream",
          "text": [
            "WARNING:tensorflow:From /usr/local/lib/python3.6/dist-packages/tensorflow/python/training/tracking/tracking.py:111: Model.state_updates (from tensorflow.python.keras.engine.training) is deprecated and will be removed in a future version.\n",
            "Instructions for updating:\n",
            "This property should not be used in TensorFlow 2.0, as updates are applied automatically.\n",
            "WARNING:tensorflow:From /usr/local/lib/python3.6/dist-packages/tensorflow/python/training/tracking/tracking.py:111: Layer.updates (from tensorflow.python.keras.engine.base_layer) is deprecated and will be removed in a future version.\n",
            "Instructions for updating:\n",
            "This property should not be used in TensorFlow 2.0, as updates are applied automatically.\n",
            "INFO:tensorflow:Assets written to: /tmp/tmp096tfa6b/assets\n"
          ],
          "name": "stdout"
        }
      ]
    }
  ]
}